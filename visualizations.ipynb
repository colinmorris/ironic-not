{
 "cells": [
  {
   "cell_type": "code",
   "execution_count": 43,
   "id": "prompt-census",
   "metadata": {},
   "outputs": [
    {
     "data": {
      "text/html": [
       "<div>\n",
       "<style scoped>\n",
       "    .dataframe tbody tr th:only-of-type {\n",
       "        vertical-align: middle;\n",
       "    }\n",
       "\n",
       "    .dataframe tbody tr th {\n",
       "        vertical-align: top;\n",
       "    }\n",
       "\n",
       "    .dataframe thead th {\n",
       "        text-align: right;\n",
       "    }\n",
       "</style>\n",
       "<table border=\"1\" class=\"dataframe\">\n",
       "  <thead>\n",
       "    <tr style=\"text-align: right;\">\n",
       "      <th></th>\n",
       "      <th>phrase</th>\n",
       "      <th>sub</th>\n",
       "      <th>timestamp</th>\n",
       "      <th>author</th>\n",
       "      <th>date</th>\n",
       "    </tr>\n",
       "  </thead>\n",
       "  <tbody>\n",
       "    <tr>\n",
       "      <th>0</th>\n",
       "      <td>not_me_thinking</td>\n",
       "      <td>FreeCompliments</td>\n",
       "      <td>1617238551</td>\n",
       "      <td>Diced_lettuce</td>\n",
       "      <td>2021-04-01 00:55:51</td>\n",
       "    </tr>\n",
       "    <tr>\n",
       "      <th>1</th>\n",
       "      <td>not_me_thinking</td>\n",
       "      <td>BravoRealHousewives</td>\n",
       "      <td>1617227396</td>\n",
       "      <td>GemmaaLD96</td>\n",
       "      <td>2021-03-31 21:49:56</td>\n",
       "    </tr>\n",
       "    <tr>\n",
       "      <th>2</th>\n",
       "      <td>not_me_thinking</td>\n",
       "      <td>piercing</td>\n",
       "      <td>1617215311</td>\n",
       "      <td>aecelese</td>\n",
       "      <td>2021-03-31 18:28:31</td>\n",
       "    </tr>\n",
       "    <tr>\n",
       "      <th>3</th>\n",
       "      <td>not_me_thinking</td>\n",
       "      <td>SpoiledDragRace</td>\n",
       "      <td>1617211855</td>\n",
       "      <td>lukendyer</td>\n",
       "      <td>2021-03-31 17:30:55</td>\n",
       "    </tr>\n",
       "    <tr>\n",
       "      <th>4</th>\n",
       "      <td>not_me_thinking</td>\n",
       "      <td>ApplyingToCollege</td>\n",
       "      <td>1617208140</td>\n",
       "      <td>usedoboereed</td>\n",
       "      <td>2021-03-31 16:29:00</td>\n",
       "    </tr>\n",
       "  </tbody>\n",
       "</table>\n",
       "</div>"
      ],
      "text/plain": [
       "            phrase                  sub   timestamp         author  \\\n",
       "0  not_me_thinking      FreeCompliments  1617238551  Diced_lettuce   \n",
       "1  not_me_thinking  BravoRealHousewives  1617227396     GemmaaLD96   \n",
       "2  not_me_thinking             piercing  1617215311       aecelese   \n",
       "3  not_me_thinking      SpoiledDragRace  1617211855      lukendyer   \n",
       "4  not_me_thinking    ApplyingToCollege  1617208140   usedoboereed   \n",
       "\n",
       "                 date  \n",
       "0 2021-04-01 00:55:51  \n",
       "1 2021-03-31 21:49:56  \n",
       "2 2021-03-31 18:28:31  \n",
       "3 2021-03-31 17:30:55  \n",
       "4 2021-03-31 16:29:00  "
      ]
     },
     "execution_count": 43,
     "metadata": {},
     "output_type": "execute_result"
    }
   ],
   "source": [
    "import pandas as pd\n",
    "import os\n",
    "\n",
    "pd.set_option('display.max_rows', 100)\n",
    "\n",
    "BLOGDIR = os.path.expanduser(\"~/src/colinmorris.github.com/assets/not/\")\n",
    "def savefig(fig, name, **kwargs):\n",
    "    if '.' not in name:\n",
    "        name += '.png'\n",
    "    path = os.path.join(BLOGDIR, name)\n",
    "    fig.savefig(path, **kwargs)\n",
    "\n",
    "\n",
    "df = pd.read_csv('comments.csv')\n",
    "df['date'] = pd.to_datetime(df.timestamp, origin='unix', unit='s')\n",
    "\n",
    "# the non-gerund patterns have pretty poor precision, so exclude them from the analysis\n",
    "GERUNDS_ONLY = 1\n",
    "if GERUNDS_ONLY:\n",
    "    nongerunds = ['omg_not', 'lmao_not']\n",
    "    df = df.loc[~df.phrase.isin(nongerunds)]\n",
    "\n",
    "df.head()"
   ]
  },
  {
   "cell_type": "code",
   "execution_count": 56,
   "id": "agreed-artist",
   "metadata": {},
   "outputs": [
    {
     "data": {
      "text/plain": [
       "sub\n",
       "SpoiledDragRace       125\n",
       "popheads               97\n",
       "rupaulsdragrace        76\n",
       "thebachelor            37\n",
       "memes                  32\n",
       "queensofleague         29\n",
       "EDanonymemes           28\n",
       "teenagers              25\n",
       "ApplyingToCollege      25\n",
       "popheadscirclejerk     25\n",
       "BigBrother             24\n",
       "rpdrcringe             17\n",
       "AskReddit              17\n",
       "RoyaleHigh_Roblox      14\n",
       "RoyaleHighTrading      10\n",
       "dtype: int64"
      ]
     },
     "execution_count": 56,
     "metadata": {},
     "output_type": "execute_result"
    }
   ],
   "source": [
    "subcounts = df.groupby('sub').size().sort_values(ascending=False).head(15)\n",
    "subcounts"
   ]
  },
  {
   "cell_type": "code",
   "execution_count": 59,
   "id": "optional-helicopter",
   "metadata": {},
   "outputs": [
    {
     "data": {
      "text/plain": [
       "<AxesSubplot:ylabel='sub'>"
      ]
     },
     "execution_count": 59,
     "metadata": {},
     "output_type": "execute_result"
    },
    {
     "data": {
      "image/png": "[encoded data removed]",
      "text/plain": [
       "<Figure size 432x288 with 1 Axes>"
      ]
     },
     "metadata": {},
     "output_type": "display_data"
    }
   ],
   "source": [
    "sns.barplot(y=subcounts.index, x=subcounts)"
   ]
  },
  {
   "cell_type": "code",
   "execution_count": 70,
   "id": "dress-animal",
   "metadata": {},
   "outputs": [],
   "source": [
    "subcounts = df.groupby('sub').size().sort_values(ascending=False)\n",
    "subcounts.to_csv('sub_counts.csv')"
   ]
  },
  {
   "cell_type": "code",
   "execution_count": 45,
   "id": "another-prefix",
   "metadata": {},
   "outputs": [
    {
     "data": {
      "text/plain": [
       "author\n",
       "raw_tomato              5\n",
       "doughnutsfan            4\n",
       "unnouveauladybug        4\n",
       "h3llo_k1tty4            4\n",
       "colinisso               3\n",
       "my_name_jeff_in_drag    3\n",
       "Bumble-Bee17            3\n",
       "therealadoredelano28    3\n",
       "bkkbbk                  3\n",
       "teamtylerandhannah      3\n",
       "MisterAmericana         3\n",
       "Akolalime               3\n",
       "sparklypinktutu         3\n",
       "Sunx_Halo               3\n",
       "DimPacifist             3\n",
       "dtype: int64"
      ]
     },
     "execution_count": 45,
     "metadata": {},
     "output_type": "execute_result"
    }
   ],
   "source": [
    "df.groupby('author').size().sort_values(ascending=False).head(15)"
   ]
  },
  {
   "cell_type": "code",
   "execution_count": 66,
   "id": "coastal-possible",
   "metadata": {},
   "outputs": [
    {
     "data": {
      "text/plain": [
       "phrase\n",
       "not_me_thinking      825\n",
       "not_me_trying        227\n",
       "not_you_trying       101\n",
       "not_you_thinking      75\n",
       "not_me_taking         66\n",
       "not_you_using         65\n",
       "not_me_using          61\n",
       "not_them_using        53\n",
       "not_them_trying       40\n",
       "not_you_acting        33\n",
       "not_them_thinking     23\n",
       "not_you_taking        21\n",
       "not_them_acting       16\n",
       "not_me_acting          5\n",
       "not_them_taking        5\n",
       "dtype: int64"
      ]
     },
     "execution_count": 66,
     "metadata": {},
     "output_type": "execute_result"
    }
   ],
   "source": [
    "df.groupby('phrase').size().sort_values(ascending=False)"
   ]
  },
  {
   "cell_type": "code",
   "execution_count": 54,
   "id": "confidential-thumbnail",
   "metadata": {},
   "outputs": [
    {
     "data": {
      "image/png": "[encoded data removed]",
      "text/plain": [
       "<Figure size 648x288 with 1 Axes>"
      ]
     },
     "metadata": {},
     "output_type": "display_data"
    }
   ],
   "source": [
    "import seaborn as sns\n",
    "from matplotlib import pyplot as plt\n",
    "sns.set_theme()\n",
    "\n",
    "FS = (9, 4)\n",
    "fig, ax = plt.subplots(figsize=FS)\n",
    "\n",
    "sns.histplot(data=df[df.date >= datetime.datetime(2012, 1, 1)], \n",
    "             #x='timestamp',\n",
    "             x='date',\n",
    "             ax=ax,\n",
    "             #bins=9*6,\n",
    "            );\n",
    "savefig(fig, 'reddit_counts_over_time.png')"
   ]
  },
  {
   "cell_type": "code",
   "execution_count": 69,
   "id": "instant-piece",
   "metadata": {},
   "outputs": [
    {
     "name": "stdout",
     "output_type": "stream",
     "text": [
      "1616 1495\n"
     ]
    }
   ],
   "source": [
    "print(\n",
    "    len(df),\n",
    "    len(df[df.date >= datetime.datetime(2020, 1, 1)])\n",
    ")"
   ]
  },
  {
   "cell_type": "code",
   "execution_count": 27,
   "id": "above-brooks",
   "metadata": {},
   "outputs": [
    {
     "data": {
      "image/png": "[encoded data removed]",
      "text/plain": [
       "<Figure size 648x288 with 1 Axes>"
      ]
     },
     "metadata": {},
     "output_type": "display_data"
    }
   ],
   "source": [
    "FS = (9, 4)\n",
    "fig, ax = plt.subplots(figsize=FS)\n",
    "\n",
    "sns.histplot(data=df[df.date >= datetime.datetime(2020, 1, 1)], \n",
    "             #x='timestamp',\n",
    "             x='date',\n",
    "             ax=ax,\n",
    "            );"
   ]
  },
  {
   "cell_type": "code",
   "execution_count": 55,
   "id": "motivated-trial",
   "metadata": {},
   "outputs": [
    {
     "data": {
      "image/png": "[encoded data removed]",
      "text/plain": [
       "<Figure size 648x288 with 1 Axes>"
      ]
     },
     "metadata": {},
     "output_type": "display_data"
    }
   ],
   "source": [
    "FS = (9, 4)\n",
    "fig, ax = plt.subplots(figsize=FS)\n",
    "\n",
    "sns.histplot(data=df[df.date >= datetime.datetime(2020, 1, 1)], \n",
    "             #x='timestamp',\n",
    "             x='date',\n",
    "             ax=ax,\n",
    "             bins=15,\n",
    "            );\n",
    "savefig(fig, 'reddit_counts_2020_on.png')"
   ]
  },
  {
   "cell_type": "code",
   "execution_count": 64,
   "id": "altered-rendering",
   "metadata": {},
   "outputs": [
    {
     "data": {
      "text/plain": [
       "date\n",
       "2020-01-31      9\n",
       "2020-02-29      7\n",
       "2020-03-31     13\n",
       "2020-04-30     14\n",
       "2020-05-31     15\n",
       "2020-06-30     17\n",
       "2020-07-31     34\n",
       "2020-08-31     55\n",
       "2020-09-30     86\n",
       "2020-10-31    110\n",
       "2020-11-30    182\n",
       "2020-12-31    245\n",
       "2021-01-31    271\n",
       "2021-02-28    256\n",
       "2021-03-31    179\n",
       "2021-04-30      2\n",
       "Freq: M, dtype: int64"
      ]
     },
     "execution_count": 64,
     "metadata": {},
     "output_type": "execute_result"
    }
   ],
   "source": [
    "rec = df.loc[df.date >= datetime.datetime(2020, 1, 1)]\n",
    "rec.groupby(pd.Grouper(freq='M', key='date')).size()"
   ]
  }
 ],
 "metadata": {
  "kernelspec": {
   "display_name": "Python 3",
   "language": "python",
   "name": "python3"
  },
  "language_info": {
   "codemirror_mode": {
    "name": "ipython",
    "version": 3
   },
   "file_extension": ".py",
   "mimetype": "text/x-python",
   "name": "python",
   "nbconvert_exporter": "python",
   "pygments_lexer": "ipython3",
   "version": "3.7.5"
  }
 },
 "nbformat": 4,
 "nbformat_minor": 5
}
